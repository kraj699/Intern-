{
  "nbformat": 4,
  "nbformat_minor": 0,
  "metadata": {
    "colab": {
      "provenance": []
    },
    "kernelspec": {
      "name": "python3",
      "display_name": "Python 3"
    },
    "language_info": {
      "name": "python"
    }
  },
  "cells": [
    {
      "cell_type": "code",
      "execution_count": 18,
      "metadata": {
        "id": "UpH1-t-F2Hfc"
      },
      "outputs": [],
      "source": [
        "import pandas as pd\n",
        "import sqlite3\n",
        "import matplotlib.pyplot as plt\n",
        "import seaborn as sns"
      ]
    },
    {
      "cell_type": "code",
      "source": [
        "conn = sqlite3.connect('sales_data.db')"
      ],
      "metadata": {
        "id": "RjunmxcF69oN"
      },
      "execution_count": 6,
      "outputs": []
    },
    {
      "cell_type": "code",
      "source": [
        "query = 'select * from sales'\n",
        "new_query = pd.read_sql_query(query, conn)\n",
        "print(new_query)"
      ],
      "metadata": {
        "colab": {
          "base_uri": "https://localhost:8080/"
        },
        "id": "wT9MAunSvRn9",
        "outputId": "238e7291-860e-4012-b54c-0b8724c5939b"
      },
      "execution_count": 7,
      "outputs": [
        {
          "output_type": "stream",
          "name": "stdout",
          "text": [
            "     order_id           order_date   sku      color      size  unit_price  \\\n",
            "0           1  2022-06-01 16:05:00   708  Dark Blue       2XL         298   \n",
            "1           1  2022-06-01 16:05:00    89  Dark Blue       2XL         258   \n",
            "2           2  2022-06-10 17:03:00  bobo      Cream  One Size         228   \n",
            "3           3  2022-06-10 19:59:00   799  Dark Blue        XL         264   \n",
            "4           4  2022-06-11 11:42:00   799  Dark Blue         M         264   \n",
            "..        ...                  ...   ...        ...       ...         ...   \n",
            "485       171  2022-09-09 06:27:00   799  Dark Blue         M         265   \n",
            "486       172  2022-09-09 07:18:00   708  Dark Blue       4XL         278   \n",
            "487       173  2022-09-09 07:22:00   799  Dark Blue         M         265   \n",
            "488       174  2022-09-09 08:25:00   799  Dark Blue         L         265   \n",
            "489       175  2022-09-09 09:47:00   799  Dark Blue        XL         265   \n",
            "\n",
            "     quantity  revenue  order_month  \n",
            "0           1      298            6  \n",
            "1           1      258            6  \n",
            "2           1      228            6  \n",
            "3           1      264            6  \n",
            "4           1      264            6  \n",
            "..        ...      ...          ...  \n",
            "485         1      265            9  \n",
            "486         1      278            9  \n",
            "487         1      265            9  \n",
            "488         1      265            9  \n",
            "489         1      265            9  \n",
            "\n",
            "[490 rows x 9 columns]\n"
          ]
        }
      ]
    },
    {
      "cell_type": "code",
      "source": [
        "query = '''\n",
        "SELECT\n",
        "    color,\n",
        "    SUM(quantity) AS total_qty,\n",
        "    SUM(unit_price * quantity) AS total_sales\n",
        "FROM sales\n",
        "GROUP BY color\n",
        "'''\n",
        "\n",
        "df = pd.read_sql_query(query, conn)\n",
        "print(df)"
      ],
      "metadata": {
        "colab": {
          "base_uri": "https://localhost:8080/"
        },
        "id": "hJ5gAI9_yBkF",
        "outputId": "5d523c66-3083-4057-8ebe-196f7eb589b0"
      },
      "execution_count": 12,
      "outputs": [
        {
          "output_type": "stream",
          "name": "stdout",
          "text": [
            "              color  total_qty  total_sales\n",
            "0     920 Navy blue          1          227\n",
            "1    922 Army green          1          207\n",
            "2         922 Black          1          207\n",
            "3             Black         13         3892\n",
            "4     Black Stripes          1          248\n",
            "5              Blue          4          878\n",
            "6      Blue Stripes          2          496\n",
            "7             Brown          1          198\n",
            "8   Cornflower Blue          1          198\n",
            "9             Cream          3          610\n",
            "10        Dark Blue        401       112364\n",
            "11        Dark Wash          5         1311\n",
            "12     Gray Stripes          1          255\n",
            "13        Grey Wash          9         2390\n",
            "14       Light Blue         26         7337\n",
            "15       Light Gray          1          228\n",
            "16       Light Wash          1          238\n",
            "17           Maroon          1          191\n",
            "18           Matcha          2          456\n",
            "19         Mid Wash          8         2043\n",
            "20    Midnight Blue          2          396\n",
            "21        Navy Blue          3          610\n",
            "22             Pink          1          228\n",
            "23       Red Orange          1          228\n",
            "24       Thin Black          1          268\n",
            "25        Thin Blue          3          785\n",
            "26            White          2          434\n"
          ]
        }
      ]
    },
    {
      "cell_type": "code",
      "source": [
        "df.plot(kind='bar', x='total_qty', y='total_sales', legend=False)\n",
        "plt.ylabel(\"Revenue\")\n",
        "plt.tight_layout()\n",
        "plt.savefig(\"sales_chart.png\")\n",
        "plt.show()"
      ],
      "metadata": {
        "colab": {
          "base_uri": "https://localhost:8080/",
          "height": 486
        },
        "id": "N_NsHFje0lWZ",
        "outputId": "a5721b22-32b7-4e53-dccb-54f2db0c6304"
      },
      "execution_count": 21,
      "outputs": [
        {
          "output_type": "display_data",
          "data": {
            "text/plain": [
              "<Figure size 640x480 with 1 Axes>"
            ],
            "image/png": "[encoded data removed]"
          },
          "metadata": {}
        }
      ]
    },
    {
      "cell_type": "code",
      "source": [],
      "metadata": {
        "id": "EgQCGgg31TG-"
      },
      "execution_count": null,
      "outputs": []
    }
  ]
}